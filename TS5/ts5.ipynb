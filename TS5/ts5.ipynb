{
 "cells": [
  {
   "cell_type": "markdown",
   "metadata": {},
   "source": [
    "\n",
    "#### Teoría de Circuitos II\n",
    "\n",
    "#  Tarea Semanal 5\n",
    "#### Autor: Federico Rodriguez Vizzon\n",
    "<img src=\"./ned.jpeg\" align=\"left\" width=\"150\" /> \n"
   ]
  },
  {
   "cell_type": "markdown",
   "metadata": {},
   "source": [
    "## Transformacion de plantilla pasa alto a pasa bajos\n",
    "\n",
    "Partimos de la siguiennte plantilla de diseño:\n",
    "\n",
    "<img src=\"./Plantilla.png\" align=\"left\" width=\"400\" /> "
   ]
  },
  {
   "cell_type": "markdown",
   "metadata": {},
   "source": [
    "$Q=5$ \n",
    "\n",
    "$f_o = 22KHz$ \n",
    "\n",
    "$f_{s1} = 17KHz$\n",
    "\n",
    "$f_{s2} = 36KHz$\n",
    "\n",
    "$\\mid T(f_{s1})\\mid = -16dB$\n",
    "\n",
    "$\\mid T(f_{s2})\\mid = -24dB$\n",
    "\n",
    "$\\alpha_{max} = 0.5dB$\n",
    "\n",
    "### Planteamos las ecucaciones de diseño de un pasa banda:\n",
    "\n",
    "$\\Omega = \\frac{1}{B}\\frac{\\omega^2 - \\omega_o^2}{\\omega}$\n",
    "\n",
    "$\\omega_o^2 = \\omega_1\\omega_2$ que lo mismo que $f_o^2 =f_1f_2$ (I)\n",
    "\n",
    "$B = \\omega_2 - \\omega_1$\n",
    "\n",
    "$Q = \\frac{\\omega_o}{B}$\n",
    "\n",
    "Operando\n",
    "\n",
    "$Q = \\frac{1}{\\frac{\\omega_2}{\\omega_0} - \\frac{\\omega_1}{\\omega_0}} = \\frac{1}{\\frac{f_2}{f_0} - \\frac{f_1}{f_0}}$\n",
    "\n",
    "Si $f_o = 1$ nos queda $Q = \\frac{1}{f_2 - f_1}$ (II)\n",
    "\n",
    "Ahora estamos en condiciones de calcular $\\Omega_{s1,s2}$\n",
    "\n",
    "$\\Omega = \\frac{1}{B}\\frac{\\omega^2 - \\omega_o^2}{\\omega}$\n",
    "\n",
    "$\\Omega_{s1} = \\frac{1}{B}\\frac{\\omega_{s1}^2 - 1}{\\omega_{s1}}$\n",
    "\n",
    "$\\Omega_{s2} = \\frac{1}{B}\\frac{\\omega_{s2}^2 - 1}{\\omega_{s2}}$"
   ]
  },
  {
   "cell_type": "code",
   "execution_count": 5,
   "metadata": {},
   "outputs": [
    {
     "data": {
      "text/markdown": [
       "$\\Omega_{s1} = -2.6069518716577527$"
      ],
      "text/plain": [
       "<IPython.core.display.Markdown object>"
      ]
     },
     "metadata": {},
     "output_type": "display_data"
    },
    {
     "data": {
      "text/markdown": [
       "$\\Omega_{s2} = 5.126262626262628$"
      ],
      "text/plain": [
       "<IPython.core.display.Markdown object>"
      ]
     },
     "metadata": {},
     "output_type": "display_data"
    },
    {
     "data": {
      "text/markdown": [
       "$\\epsilon^2 = 0.12201845430196334$"
      ],
      "text/plain": [
       "<IPython.core.display.Markdown object>"
      ]
     },
     "metadata": {},
     "output_type": "display_data"
    },
    {
     "data": {
      "text/markdown": [
       "$\\epsilon = 0.34931140018894796$"
      ],
      "text/plain": [
       "<IPython.core.display.Markdown object>"
      ]
     },
     "metadata": {},
     "output_type": "display_data"
    },
    {
     "data": {
      "text/markdown": [
       "Calculo de $\\alpha(\\Omega)$ para $\\Omega_{s1} = -2.6069518716577527$  y cuando $\\Omega_{s2} = 5.126262626262628$"
      ],
      "text/plain": [
       "<IPython.core.display.Markdown object>"
      ]
     },
     "metadata": {},
     "output_type": "display_data"
    },
    {
     "data": {
      "text/markdown": [
       "$Orden = 1$"
      ],
      "text/plain": [
       "<IPython.core.display.Markdown object>"
      ]
     },
     "metadata": {},
     "output_type": "display_data"
    },
    {
     "data": {
      "text/markdown": [
       "$\\alpha(\\Omega_{s1}) = 2.6227581358748617 \\land \\alpha(\\Omega_{s2}) = 6.239178280680387$\n",
       "    "
      ],
      "text/plain": [
       "<IPython.core.display.Markdown object>"
      ]
     },
     "metadata": {},
     "output_type": "display_data"
    },
    {
     "data": {
      "text/markdown": [
       "$Orden = 2$"
      ],
      "text/plain": [
       "<IPython.core.display.Markdown object>"
      ]
     },
     "metadata": {},
     "output_type": "display_data"
    },
    {
     "data": {
      "text/markdown": [
       "$\\alpha(\\Omega_{s1}) = 13.08527618875543 \\land \\alpha(\\Omega_{s2}) = 25.123400470188976$\n",
       "    "
      ],
      "text/plain": [
       "<IPython.core.display.Markdown object>"
      ]
     },
     "metadata": {},
     "output_type": "display_data"
    },
    {
     "data": {
      "text/markdown": [
       "$Orden = 3$"
      ],
      "text/plain": [
       "<IPython.core.display.Markdown object>"
      ]
     },
     "metadata": {},
     "output_type": "display_data"
    },
    {
     "data": {
      "text/markdown": [
       "$\\alpha(\\Omega_{s1}) = 26.86670727783945 \\land \\alpha(\\Omega_{s2}) = 45.242131206488956$\n",
       "    "
      ],
      "text/plain": [
       "<IPython.core.display.Markdown object>"
      ]
     },
     "metadata": {},
     "output_type": "display_data"
    },
    {
     "data": {
      "text/markdown": [
       "$Orden = 4$"
      ],
      "text/plain": [
       "<IPython.core.display.Markdown object>"
      ]
     },
     "metadata": {},
     "output_type": "display_data"
    },
    {
     "data": {
      "text/markdown": [
       "$\\alpha(\\Omega_{s1}) = 40.862114569723246 \\land \\alpha(\\Omega_{s2}) = 65.37477409889212$\n",
       "    "
      ],
      "text/plain": [
       "<IPython.core.display.Markdown object>"
      ]
     },
     "metadata": {},
     "output_type": "display_data"
    }
   ],
   "source": [
    "import numpy as np\n",
    "from IPython.display import display, Markdown\n",
    "import matplotlib.pyplot as plt\n",
    "from scipy import signal as signal\n",
    "from pytc2.sistemas_lineales import bodePlot, pzmap, GroupDelay, analyze_sys, tf2sos_analog, pretty_print_SOS\n",
    "## setear en True para ver logs de dev\n",
    "dev = False\n",
    "\n",
    "w_0 = 2*np.pi*22e3\n",
    "w_s_1 = 2*np.pi*17e3\n",
    "w_s_2 = 2*np.pi*36e3\n",
    "\n",
    "\n",
    "w_0_norma = 1\n",
    "w_s_1_normalizada = w_s_1/w_0\n",
    "w_s_2_normalizada = w_s_2/w_0\n",
    "\n",
    "q = 5\n",
    "b = 1/q\n",
    "\n",
    "Omega_s1 = q *((w_s_1_normalizada**2 -1)/w_s_1_normalizada)\n",
    "Omega_s2 = q *(w_s_2_normalizada**2 -1)/w_s_2_normalizada\n",
    "\n",
    "\n",
    "display(Markdown(f\"\"\"$\\Omega_{{s1}} = {Omega_s1}$\"\"\"))\n",
    "display(Markdown(f\"\"\"$\\Omega_{{s2}} = {Omega_s2}$\"\"\"))\n",
    "\n",
    "ee = (10**(0.5/10) -1)\n",
    "e = np.sqrt(ee)\n",
    "display(Markdown(f\"\"\"$\\epsilon^2 = {ee}$\"\"\"))\n",
    "display(Markdown(f\"\"\"$\\epsilon = {e}$\"\"\"))\n",
    "\n",
    "display(Markdown(f\"\"\"Calculo de $\\\\alpha(\\Omega)$ para $\\Omega_{{s1}} = {Omega_s1}$  y cuando $\\Omega_{{s2}} = {Omega_s2}$\"\"\"))\n",
    "for order in range(1, 5):\n",
    "    alpha_1 = 10*np.log10(1+ee*(np.cosh(order*np.arccosh((-1)*Omega_s1))**2))\n",
    "    alpha_2 = 10*np.log10(1+ee*(np.cosh(order*np.arccosh(Omega_s2))**2))\n",
    "    display(Markdown(f\"\"\"$Orden = {order}$\"\"\"))\n",
    "    display(Markdown(f\"\"\"$\\\\alpha(\\Omega_{{s1}}) = {alpha_1} \\\\land \\\\alpha(\\Omega_{{s2}}) = {alpha_2}$\n",
    "    \"\"\"))\n",
    "\n",
    "    \n",
    "    "
   ]
  },
  {
   "cell_type": "markdown",
   "metadata": {},
   "source": [
    "Podemos observar que para $n = 3$ se cumple con la atenucion exigida para $\\Omega{s1} \\land \\Omega_{s2}$ \n",
    "\n",
    "Plantilla de diseño filtro pasa bajos.\n",
    "\n",
    "<img src=\"./plantilla_lp.jpg\" align=\"left\" width=\"600\" /> "
   ]
  },
  {
   "cell_type": "markdown",
   "metadata": {},
   "source": [
    "## Calculo transferencia Chebyshev\n",
    "\n",
    "Recordando $\\mid T(\\Omega) \\mid^2 = \\frac{1}{1 + \\epsilon^2C_n^2(\\Omega)}$\n",
    "\n",
    "$Cn = 2\\Omega C_{n-1} - C_{n-2}$\n",
    "\n",
    "Para un $n = 3$ debemos obtener $C_3$\n",
    "\n",
    "$C_0 = 1$\n",
    "\n",
    "$C_1 = \\Omega$\n",
    "\n",
    "$C_2 = 2\\Omega^2 - 1$\n",
    "\n",
    "$C_3 = 2\\Omega C_2 - C_1 = 2\\Omega(2\\Omega^2 - 1) - \\Omega = 4\\Omega^3 -3\\Omega$\n",
    "\n",
    "$C_3^2 = 16\\Omega^6 -24\\Omega^4 + 9\\Omega2$\n",
    "\n",
    "\n",
    "$\\mid T(j\\Omega) \\mid^2 = \\frac{1}{1 + \\epsilon^2(16\\Omega^6 -24\\Omega^4 + 9\\Omega^2)} = \\frac{\\frac{1}{\\epsilon^2}}{1 + (16\\Omega^6 -24\\Omega^4 + 9\\Omega^2)} =  \\frac{\\frac{1}{16\\epsilon^2}}{\\Omega^6 -\\frac{3}{2}\\Omega^4 + \\frac{9}{16}\\Omega^2 + \\frac{1}{16\\epsilon^2} }$\n",
    "\n",
    "Si $\\Omega = \\frac{s}{j}$\n",
    "\n",
    "$\\mid T(s) \\mid^2 = \\frac{\\frac{1}{16\\epsilon^2}}{-s^6 + \\frac{3}{2}s^4 - \\frac{9}{16}s^2 + \\frac{1}{16\\epsilon^2}} = T(s)T(-s)$"
   ]
  },
  {
   "cell_type": "code",
   "execution_count": 6,
   "metadata": {},
   "outputs": [
    {
     "name": "stdout",
     "output_type": "stream",
     "text": [
      "(-0.3132282431701374+1.0219274910473601j)\n",
      "(-0.3132282431701374-1.0219274910473601j)\n",
      "(0.31322824317013676+1.0219274910473595j)\n",
      "(0.31322824317013676-1.0219274910473595j)\n",
      "(-0.6264564863402747+0j)\n",
      "(0.6264564863402747+0j)\n"
     ]
    },
    {
     "data": {
      "text/markdown": [
       "### Denominador de la seccion de primer orden: $( s + 0.6264564863402747)$"
      ],
      "text/plain": [
       "<IPython.core.display.Markdown object>"
      ]
     },
     "metadata": {},
     "output_type": "display_data"
    },
    {
     "data": {
      "text/markdown": [
       "### Denominador de la seccion de segundo orden: $( s^2 + s0.6264564863402748 + 1.1424477292778032)$"
      ],
      "text/plain": [
       "<IPython.core.display.Markdown object>"
      ]
     },
     "metadata": {},
     "output_type": "display_data"
    }
   ],
   "source": [
    "den_cheby = np.array([-1, 0, (-3/2), 0, (-9/16), 0, (1/(16*ee))])\n",
    "roots_cheby = np.roots(den_cheby)\n",
    "for root in roots_cheby:\n",
    "    print(root)\n",
    "den_first_section = np.polymul(-1, roots_cheby[4])\n",
    "den_first_section = np.array([1, den_first_section[0]])\n",
    "den_second_section = np.polymul(np.array([-1, roots_cheby[0]]), np.array([-1, roots_cheby[1]]))\n",
    "num_first_section = np.array([den_first_section[1]])\n",
    "num_second_section = np.array([den_second_section[2]])\n",
    "if dev == True:\n",
    "    print(\"dev log, num first section\", num_first_section)\n",
    "    print(\"dev log, denominador first section\", den_first_section)\n",
    "    print(\"dev log, num second section\", num_second_section)\n",
    "    print(\"dev log, denominador second section\", den_second_section)\n",
    "    print(num_first_section[0]*num_second_section[0])\n",
    "    print(1/(4*e))\n",
    "\n",
    "\n",
    "## nos tomamos la libertad de quedarnos con la parte real, por que previamente verificamos que el resultado no tubiera parte imaginaria.\n",
    "display(Markdown(f\"\"\"### Denominador de la seccion de primer orden: $( s + {den_first_section[1].real})$\"\"\"))\n",
    "display(Markdown(f\"\"\"### Denominador de la seccion de segundo orden: $( s^2 + s{den_second_section[1].real} + {den_second_section[2].real})$\"\"\"))\n"
   ]
  },
  {
   "cell_type": "markdown",
   "metadata": {},
   "source": [
    "$T_1(s) = \\frac{0.6264564863402747}{s + 0.6264564863402747}$\n",
    "\n",
    "$T_2(s) = \\frac{1.14244773}{s^2 + s0.62645649 + 1.14244773}$\n",
    "\n",
    "$T(s) = T_1(s)T_2(s)= \\frac{0.6264564863402747}{s + 0.6264564863402747} \\frac{1.14244773}{s^2 + s0.62645649 + 1.14244773}$"
   ]
  },
  {
   "cell_type": "code",
   "execution_count": 7,
   "metadata": {},
   "outputs": [
    {
     "name": "stdout",
     "output_type": "stream",
     "text": [
      "\n",
      " Polos de un chebyshev de orden 3: [-0.31322824+1.02192749j -0.62645649-0.j         -0.31322824-1.02192749j] \n",
      " Ceros de un chebyshev de orden 3: [] \n",
      " k =  0.7156937903107972\n"
     ]
    },
    {
     "data": {
      "text/markdown": [
       "Obtuvimos el polinomio de cheby de orden 3 con la funcion de aproximacion de signal.cheb1ap, los polos obtenidos son consistentes con lo desarrollado manualmente."
      ],
      "text/plain": [
       "<IPython.core.display.Markdown object>"
      ]
     },
     "metadata": {},
     "output_type": "display_data"
    }
   ],
   "source": [
    "\n",
    "z, p, k = signal.cheb1ap(3, 0.5)\n",
    "print(\n",
    "    \"\\n\",\n",
    "    \"Polos de un chebyshev de orden 3:\", p,\n",
    "    \"\\n Ceros de un chebyshev de orden 3:\", z,\n",
    "    \"\\n k = \", k\n",
    ")\n",
    "display(Markdown(f\"\"\"Obtuvimos el polinomio de cheby de orden 3 con la funcion de aproximacion de signal.cheb1ap, los polos obtenidos son consistentes con lo desarrollado manualmente.\"\"\"))\n"
   ]
  },
  {
   "cell_type": "markdown",
   "metadata": {},
   "source": [
    "## Transformacion de pasa bajos a pasa banda\n",
    "\n",
    "$T_{BP}(s) = T_{LP}(s = Q\\frac{s^2 +1}{s})$\n",
    "\n",
    "### Empezamos por la etapa de orden 1:\n",
    "\n",
    "$T_{LP}(s) = \\frac{\\omega_{01}}{s+\\omega_{01}} \\land \\omega_{01} = 0.6264564863402747$\n",
    "\n",
    "$T_{1BP} = T_1(s = Q\\frac{s^2 +1}{s}) = \\frac{s \\frac{\\omega_{01}}{Q}}{s^2 + s \\frac{\\omega_{01}}{Q} +1}$"
   ]
  },
  {
   "cell_type": "code",
   "execution_count": 8,
   "metadata": {},
   "outputs": [
    {
     "data": {
      "text/markdown": [
       "$T_{BP1}(s) = \\frac{s 0.12529129726805496}{s^2 1.0 + s0.12529129726805496 + 1.0}$"
      ],
      "text/plain": [
       "<IPython.core.display.Markdown object>"
      ]
     },
     "metadata": {},
     "output_type": "display_data"
    },
    {
     "data": {
      "text/markdown": [
       "Aplicamos el nuccleo de transformacion LP2HP usando scipy obtenemos la siguiente transferencia."
      ],
      "text/plain": [
       "<IPython.core.display.Markdown object>"
      ]
     },
     "metadata": {},
     "output_type": "display_data"
    },
    {
     "data": {
      "text/latex": [
       "$\\displaystyle   \\frac{s \\,\\, 0.1253 }{s^2 + s \\,\\, 0.1253 +   1 }$"
      ],
      "text/plain": [
       "<IPython.core.display.Math object>"
      ]
     },
     "metadata": {},
     "output_type": "display_data"
    },
    {
     "data": {
      "text/markdown": [
       "Al comparar las dos funciones transferencias podemos apreciar que son iguales."
      ],
      "text/plain": [
       "<IPython.core.display.Markdown object>"
      ]
     },
     "metadata": {},
     "output_type": "display_data"
    }
   ],
   "source": [
    "num_first_section_bp = np.array([0, num_first_section[0]/q, 0]).real\n",
    "den_first_section_bp = np.array([1, den_first_section[1]/q, 1]).real\n",
    "\n",
    "if dev == True:\n",
    "    print(\"dev log, numerado band pass\", num_first_section_bp)\n",
    "    print(\"dev log, denominador band pass\",den_first_section_bp)\n",
    "    \n",
    "display(Markdown(f\"\"\"$T_{{BP1}}(s) = \\\\frac{{s {num_first_section_bp[1]}}}{{s^2 {den_first_section_bp[0]} + s{den_first_section_bp[1]} + {den_first_section_bp[2]}}}$\"\"\"))\n",
    "## calculamos el BP aplicando el nucleo de transformacion con signal.lp2bp()\n",
    "num_1_np, den_1_np = signal.lp2bp(num_first_section.real, den_first_section.real, bw = b)\n",
    "display(Markdown(f\"\"\"Aplicamos el nuccleo de transformacion LP2HP usando scipy obtenemos la siguiente transferencia.\"\"\"))\n",
    "pretty_print_SOS(tf2sos_analog(num_1_np, den_1_np))\n",
    "display(Markdown(f\"\"\"Al comparar las dos funciones transferencias podemos apreciar que son iguales.\"\"\"))\n",
    "\n"
   ]
  },
  {
   "cell_type": "markdown",
   "metadata": {},
   "source": [
    "### Etapa de orden 2\n",
    "\n",
    "$T_{LP2}(s) = \\frac{1.14244773}{s^2 + s0.62645649 + 1.14244773} = \\frac{a_1}{s^2 + s a_0 + a_1 } $\n",
    "\n",
    "$T_{BP2}(s) = T_{LP2}(s = Q\\frac{s^2 +1}{s}) = \\frac{a_1}{Q^2\\frac{s^4+2s+1}{s^2} + Q\\frac{s^2 +1}{s} a_0 + a_1} = \\frac{s^2a_1}{Q^2(S^4+2s^2+1) + a_0Q(s^3 +s) + s^2a_1} = \\frac{s^2a_1}{s^4Q^2 + s^3Qa_0 + s^2(2Q^2 + a_1) + s a_0Q +Q^2} = \\frac{s^2\\frac{a_1}{Q^2}}{s^4 + s^3\\frac{a_0}{Q} + s^2\\frac{2Q^2+a_1}{Q^2} + s \\frac{a_0}{Q} + 1} = \\frac{s^2\\frac{a_1}{Q^2}}{s^4 + s^3\\frac{a_0}{Q} + s^2 \\left(2 +\\frac{a_1}{Q^2}\\right) + s \\frac{a_0}{Q} + 1}$\n"
   ]
  },
  {
   "cell_type": "code",
   "execution_count": 9,
   "metadata": {},
   "outputs": [
    {
     "data": {
      "text/markdown": [
       "$T_{sos1}(s) = \\frac{s k_2}{s^2 1.0 + s0.06901747261911159 + 1.226457825635019}$"
      ],
      "text/plain": [
       "<IPython.core.display.Markdown object>"
      ]
     },
     "metadata": {},
     "output_type": "display_data"
    },
    {
     "data": {
      "text/markdown": [
       "$T_{sos2}(s) = \\frac{s k_3}{s^2 1.0 + s0.05627382464894311 + 0.815356206384213}$"
      ],
      "text/plain": [
       "<IPython.core.display.Markdown object>"
      ]
     },
     "metadata": {},
     "output_type": "display_data"
    }
   ],
   "source": [
    "a_0 = den_second_section[1]\n",
    "a_1 = den_second_section[2]\n",
    "den_bp_manual = np.array([1, (a_0/q), (2+(a_1/q**2)), (a_0/q), 1])\n",
    "roots_bp_manual = np.roots(den_bp_manual)\n",
    "##nos quedamos solo con la parte real, por el redondeo aparece una parte imaginaria e-16\n",
    "den_bp_sos_1 = np.polymul(np.array([-1, roots_bp_manual[0]]), np.array([-1, roots_bp_manual[2]])).real\n",
    "den_bp_sos_2 = np.polymul(np.array([-1, roots_bp_manual[1]]), np.array([-1, roots_bp_manual[3]])).real\n",
    "\n",
    "if dev == True:\n",
    "    print(\"a_0 = \", a_0, \"\\na_1 = \", a_1)\n",
    "    print(\"denonimador band pass obtenido manualmente: \\n\", den_bp_manual)\n",
    "    print(\"roots\", roots_bp_manual)\n",
    "    print(\"denominador band pass sos 1 = \\n\", den_bp_sos_1)\n",
    "    print(\"denominador band pass sos 2 = \\n\", den_bp_sos_2)\n",
    "    den_bp_sos_1[2]*den_bp_sos_2[2]\n",
    "\n",
    "display(Markdown(f\"\"\"$T_{{sos1}}(s) = \\\\frac{{s k_2}}{{s^2 {den_bp_sos_1[0]} + s{den_bp_sos_1[1]} + {den_bp_sos_1[2]}}}$\"\"\"))\n",
    "display(Markdown(f\"\"\"$T_{{sos2}}(s) = \\\\frac{{s k_3}}{{s^2 {den_bp_sos_2[0]} + s{den_bp_sos_2[1]} + {den_bp_sos_2[2]}}}$\"\"\"))\n",
    "\n"
   ]
  },
  {
   "cell_type": "markdown",
   "metadata": {},
   "source": [
    "$ K = k_1k_2$\n",
    "\n",
    "$\\frac{a_1}{Q^2} = K \\frac{\\omega_{02}}{Q}\\frac{\\omega_{03}}{Q} \\frac{QQ}{\\omega_{02}\\omega_{03}}$\n",
    "\n",
    "$a_1 = K \\omega_{02}\\omega_{03} \\frac{Q^2}{\\omega_{02}\\omega_{03}}$\n",
    "\n",
    "$\\omega_{02}\\omega_{03} = 1$\n",
    "\n",
    "$a_1 = K \\frac{Q^2}{\\omega_{02}\\omega_{03}} \\implies K = a_1 \\frac{\\omega_{02}}{Q}\\frac{\\omega_{03}}{Q} \\implies K = \\frac{a_1}{Q^2}$\n"
   ]
  },
  {
   "cell_type": "code",
   "execution_count": 10,
   "metadata": {},
   "outputs": [
    {
     "data": {
      "text/markdown": [
       "$K = 0.04569790917111213$"
      ],
      "text/plain": [
       "<IPython.core.display.Markdown object>"
      ]
     },
     "metadata": {},
     "output_type": "display_data"
    }
   ],
   "source": [
    "if dev == True:\n",
    "    display(Markdown(f\"\"\"$\\\\omega_{{02}}\\\\omega_{{03}} = {np.sqrt(den_bp_sos_1[2])*np.sqrt(den_bp_sos_2[2])}$\"\"\"))\n",
    "k_total = (a_1/25).real\n",
    "display(Markdown(f\"\"\"$K = {k_total}$\"\"\"))\n"
   ]
  },
  {
   "cell_type": "markdown",
   "metadata": {},
   "source": [
    "De esta forma obtenemos la transferencia pasa banda de la etapa de orden 2: "
   ]
  },
  {
   "cell_type": "code",
   "execution_count": 11,
   "metadata": {},
   "outputs": [
    {
     "data": {
      "text/markdown": [
       "$T_{BP2}(s) = 0.04569790917111213 \\frac{s}{s^2 1.0 + s0.06901747261911159 + 1.226457825635019}\\frac{s}{s^2 1.0 + s0.05627382464894311 + 0.815356206384213}$"
      ],
      "text/plain": [
       "<IPython.core.display.Markdown object>"
      ]
     },
     "metadata": {},
     "output_type": "display_data"
    }
   ],
   "source": [
    "display(Markdown(f\"\"\"$T_{{BP2}}(s) = {k_total} \\\\frac{{s}}{{s^2 {den_bp_sos_1[0]} + s{den_bp_sos_1[1]} + {den_bp_sos_1[2]}}}\\\\frac{{s}}{{s^2 {den_bp_sos_2[0]} + s{den_bp_sos_2[1]} + {den_bp_sos_2[2]}}}$\"\"\"))\n"
   ]
  },
  {
   "cell_type": "code",
   "execution_count": 12,
   "metadata": {},
   "outputs": [
    {
     "data": {
      "text/latex": [
       "$\\displaystyle   \\frac{s \\,\\, 0.1669 }{s^2 + s \\,\\, 0.05627 + 0.8154 } . \\frac{s \\,\\, 0.2737 }{s^2 + s \\,\\, 0.06902 + 1.226 }$"
      ],
      "text/plain": [
       "<IPython.core.display.Math object>"
      ]
     },
     "metadata": {},
     "output_type": "display_data"
    },
    {
     "data": {
      "text/markdown": [
       "$K = 0.04569790917111213  \\land 0.1669343685590422 \\times 0.27374775826913955 = 0.04569790917111213$"
      ],
      "text/plain": [
       "<IPython.core.display.Markdown object>"
      ]
     },
     "metadata": {},
     "output_type": "display_data"
    },
    {
     "data": {
      "text/markdown": [
       "La funcion transferencia obetenida en forma manual y la obtenida usando signal.lp2bp() son consitentes."
      ],
      "text/plain": [
       "<IPython.core.display.Markdown object>"
      ]
     },
     "metadata": {},
     "output_type": "display_data"
    },
    {
     "data": {
      "text/markdown": [
       "## Transferencia completa del filtro pasabanda."
      ],
      "text/plain": [
       "<IPython.core.display.Markdown object>"
      ]
     },
     "metadata": {},
     "output_type": "display_data"
    },
    {
     "data": {
      "text/markdown": [
       "$T_{BP}(s) = \\frac{s 0.12529129726805496}{s^2 1.0 + s0.12529129726805496 + 1.0} 0.7156937903107972 \\frac{s}{s^2 1.0 + s0.06901747261911159 + 1.226457825635019}\\frac{s}{s^2 1.0 + s0.05627382464894311 + 0.815356206384213}$"
      ],
      "text/plain": [
       "<IPython.core.display.Markdown object>"
      ]
     },
     "metadata": {},
     "output_type": "display_data"
    }
   ],
   "source": [
    "num_a, den_a = signal.lp2bp(num_second_section.real, den_second_section.real, bw = b)\n",
    "sos_bp = tf2sos_analog(num_a, den_a)\n",
    "pretty_print_SOS(sos_bp)\n",
    "pretty_k = sos_bp[0][1]*sos_bp[1][1]\n",
    "display(Markdown(f\"\"\"$K = {k_total}  \\land {sos_bp[0][1]} \\\\times {sos_bp[1][1]} = {pretty_k}$\"\"\"))\n",
    "display(Markdown(\"\"\"La funcion transferencia obetenida en forma manual y la obtenida usando signal.lp2bp() son consitentes.\"\"\"))\n",
    "display(Markdown(\"\"\"## Transferencia completa del filtro pasabanda.\"\"\"))\n",
    "display(Markdown(f\"\"\"$T_{{BP}}(s) = \\\\frac{{s {num_first_section_bp[1]}}}{{s^2 {den_first_section_bp[0]} + s{den_first_section_bp[1]} + {den_first_section_bp[2]}}} {k} \\\\frac{{s}}{{s^2 {den_bp_sos_1[0]} + s{den_bp_sos_1[1]} + {den_bp_sos_1[2]}}}\\\\frac{{s}}{{s^2 {den_bp_sos_2[0]} + s{den_bp_sos_2[1]} + {den_bp_sos_2[2]}}}$\"\"\"))\n",
    "\n"
   ]
  },
  {
   "cell_type": "code",
   "execution_count": 13,
   "metadata": {},
   "outputs": [
    {
     "data": {
      "text/markdown": [
       "Observamos que la transferencia completa obtenida manualmente es la misma que obtenemos usando la funcion de aproximacion signal.cheb1app()"
      ],
      "text/plain": [
       "<IPython.core.display.Markdown object>"
      ]
     },
     "metadata": {},
     "output_type": "display_data"
    },
    {
     "data": {
      "text/latex": [
       "$\\displaystyle   \\frac{0.6264 }{s + 0.6265 } . \\frac{1.143 }{s^2 + s \\,\\, 0.6265 + 1.142 }$"
      ],
      "text/plain": [
       "<IPython.core.display.Math object>"
      ]
     },
     "metadata": {},
     "output_type": "display_data"
    },
    {
     "data": {
      "text/markdown": [
       "Aplicamos el nucleo de transformacion e imprimimos como secciones de segundo orden"
      ],
      "text/plain": [
       "<IPython.core.display.Markdown object>"
      ]
     },
     "metadata": {},
     "output_type": "display_data"
    },
    {
     "data": {
      "text/latex": [
       "$\\displaystyle   \\frac{s \\,\\, 0.1512 }{s^2 + s \\,\\, 0.1253 +   1 } . \\frac{s \\,\\, 0.1411 }{s^2 + s \\,\\, 0.06902 + 1.226 } . \\frac{s \\,\\, 0.2683 }{s^2 + s \\,\\, 0.05627 + 0.8154 }$"
      ],
      "text/plain": [
       "<IPython.core.display.Math object>"
      ]
     },
     "metadata": {},
     "output_type": "display_data"
    },
    {
     "name": "stdout",
     "output_type": "stream",
     "text": [
      "\n",
      "\n"
     ]
    },
    {
     "data": {
      "text/markdown": [
       "\n",
       "\n",
       "Podemos observar una diferencia en los valores de los coeficientes del numerador de cada seccion,\n",
       "pero si calculamos el producto:\n",
       "\n",
       "$0.15119988835161355 \\times 0.14112564733939606 \\times 0.2683241847851805 = 0.005725550322486379$\n",
       "\n",
       "\n",
       "y lo comparamos con el producto:\n",
       "\n",
       "$0.12529129726805496 \\times 0.04569790917111213 = 0.005725550322486385$\n",
       "\n",
       "Llegamos al mismo valor"
      ],
      "text/plain": [
       "<IPython.core.display.Markdown object>"
      ]
     },
     "metadata": {},
     "output_type": "display_data"
    }
   ],
   "source": [
    "## Para la simulacion con np vamos por el siguiente camino, para evitar tener que multiplicar las transferencias \n",
    "## a mano.\n",
    "num_cheby_complete, den_cheby_complet = signal.zpk2tf(z,p,k)\n",
    "sos_complete_lp = tf2sos_analog(num_cheby_complete, den_cheby_complet)\n",
    "if dev: print(sos_complete_lp[0], \"\\n\", sos_complete_lp[1])\n",
    "display(Markdown(\"\"\"Observamos que la transferencia completa obtenida manualmente es la misma que obtenemos usando la funcion de aproximacion signal.cheb1app()\"\"\"))\n",
    "pretty_print_SOS(sos_complete_lp)\n",
    "display(Markdown(\"\"\"Aplicamos el nucleo de transformacion e imprimimos como secciones de segundo orden\"\"\"))\n",
    "num_complete_bp, den_complete_bp = signal.lp2bp(num_cheby_complete, den_cheby_complet, bw = b)\n",
    "sos_complete = tf2sos_analog(num_complete_bp, den_complete_bp)\n",
    "if dev: print(sos_complete)\n",
    "pretty_print_SOS(sos_complete)\n",
    "print(\"\\n\")\n",
    "display(Markdown(f\"\"\"\n",
    "\n",
    "Podemos observar una diferencia en los valores de los coeficientes del numerador de cada seccion,\n",
    "pero si calculamos el producto:\n",
    "\n",
    "${sos_complete[0][1]} \\\\times {sos_complete[1][1]} \\\\times {sos_complete[2][1]} = {(sos_complete[0][1]*sos_complete[1][1]*sos_complete[2][1])}$\n",
    "\n",
    "\n",
    "y lo comparamos con el producto:\n",
    "\n",
    "${num_first_section_bp[1]} \\\\times {k_total} = {(num_first_section_bp[1]*k_total)}$\n",
    "\n",
    "Llegamos al mismo valor\"\"\"))"
   ]
  },
  {
   "cell_type": "code",
   "execution_count": 14,
   "metadata": {},
   "outputs": [
    {
     "data": {
      "text/markdown": [
       "### Simulacion numerica"
      ],
      "text/plain": [
       "<IPython.core.display.Markdown object>"
      ]
     },
     "metadata": {},
     "output_type": "display_data"
    },
    {
     "data": {
      "image/png": "[encoded data removed]",
      "text/plain": [
       "<Figure size 640x480 with 2 Axes>"
      ]
     },
     "metadata": {},
     "output_type": "display_data"
    },
    {
     "data": {
      "image/png": "[encoded data removed]",
      "text/plain": [
       "<Figure size 640x480 with 1 Axes>"
      ]
     },
     "metadata": {},
     "output_type": "display_data"
    },
    {
     "data": {
      "image/png": "[encoded data removed]",
      "text/plain": [
       "<Figure size 640x480 with 1 Axes>"
      ]
     },
     "metadata": {},
     "output_type": "display_data"
    }
   ],
   "source": [
    "display(Markdown(\"\"\"### Simulacion numerica\"\"\"))\n",
    "analyze_sys(signal.TransferFunction(num_complete_bp, den_complete_bp))"
   ]
  },
  {
   "cell_type": "code",
   "execution_count": 15,
   "metadata": {},
   "outputs": [
    {
     "data": {
      "text/plain": [
       "4.203287487420328"
      ]
     },
     "execution_count": 15,
     "metadata": {},
     "output_type": "execute_result"
    }
   ],
   "source": [
    "1/((0.15511/0.1253)-1)"
   ]
  },
  {
   "cell_type": "code",
   "execution_count": 23,
   "metadata": {},
   "outputs": [
    {
     "data": {
      "text/plain": [
       "0.8156606851549756"
      ]
     },
     "execution_count": 23,
     "metadata": {},
     "output_type": "execute_result"
    }
   ],
   "source": [
    "1/1.226"
   ]
  },
  {
   "cell_type": "code",
   "execution_count": 30,
   "metadata": {},
   "outputs": [
    {
     "data": {
      "text/plain": [
       "14.488554042306578"
      ]
     },
     "execution_count": 30,
     "metadata": {},
     "output_type": "execute_result"
    }
   ],
   "source": [
    "1/0.06902"
   ]
  },
  {
   "cell_type": "code",
   "execution_count": null,
   "metadata": {},
   "outputs": [],
   "source": []
  },
  {
   "cell_type": "code",
   "execution_count": 27,
   "metadata": {},
   "outputs": [
    {
     "data": {
      "text/plain": [
       "0.9575471698113207"
      ]
     },
     "execution_count": 27,
     "metadata": {},
     "output_type": "execute_result"
    }
   ],
   "source": [
    "1/((0.1411/0.06902)-1)"
   ]
  },
  {
   "cell_type": "code",
   "execution_count": 28,
   "metadata": {},
   "outputs": [
    {
     "data": {
      "text/plain": [
       "1.226391954868776"
      ]
     },
     "execution_count": 28,
     "metadata": {},
     "output_type": "execute_result"
    }
   ],
   "source": [
    "##tercera y ultima etapa\n",
    "1/0.8154"
   ]
  },
  {
   "cell_type": "code",
   "execution_count": 29,
   "metadata": {},
   "outputs": [
    {
     "data": {
      "text/plain": [
       "17.77145903678692"
      ]
     },
     "execution_count": 29,
     "metadata": {},
     "output_type": "execute_result"
    }
   ],
   "source": [
    "1/0.05627"
   ]
  },
  {
   "cell_type": "code",
   "execution_count": 22,
   "metadata": {},
   "outputs": [
    {
     "data": {
      "text/plain": [
       "0.26538697354148"
      ]
     },
     "execution_count": 22,
     "metadata": {},
     "output_type": "execute_result"
    }
   ],
   "source": [
    "1/((0.2683/0.05627)-1)"
   ]
  },
  {
   "cell_type": "code",
   "execution_count": null,
   "metadata": {},
   "outputs": [],
   "source": []
  }
 ],
 "metadata": {
  "kernelspec": {
   "display_name": "Python 3 (ipykernel)",
   "language": "python",
   "name": "python3"
  },
  "language_info": {
   "codemirror_mode": {
    "name": "ipython",
    "version": 3
   },
   "file_extension": ".py",
   "mimetype": "text/x-python",
   "name": "python",
   "nbconvert_exporter": "python",
   "pygments_lexer": "ipython3",
   "version": "3.9.5"
  }
 },
 "nbformat": 4,
 "nbformat_minor": 2
}
