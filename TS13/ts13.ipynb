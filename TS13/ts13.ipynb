{
 "cells": [
  {
   "cell_type": "markdown",
   "metadata": {},
   "source": [
    "\n",
    "#### Teoría de Circuitos II\n",
    "\n",
    "#  Tarea Semanal 13\n",
    "\n",
    "\n",
    "#### Autor: Federico Rodriguez Vizzon\n",
    "<img src=\"./assets/ned.jpeg\" align=\"left\" width=\"150\" /> \n"
   ]
  },
  {
   "cell_type": "code",
   "execution_count": 2,
   "metadata": {},
   "outputs": [
    {
     "data": {
      "text/html": [
       "\n",
       "        <iframe\n",
       "            width=\"900\"\n",
       "            height=\"900\"\n",
       "            src=\"./assets/ts13.pdf\"\n",
       "            frameborder=\"0\"\n",
       "            allowfullscreen\n",
       "            \n",
       "        ></iframe>\n",
       "        "
      ],
      "text/plain": [
       "<IPython.lib.display.IFrame at 0x10f7fdca0>"
      ]
     },
     "execution_count": 2,
     "metadata": {},
     "output_type": "execute_result"
    }
   ],
   "source": [
    "from IPython.display import IFrame\n",
    "IFrame(\"./assets/ts13.pdf\", width=900, height=900)"
   ]
  },
  {
   "cell_type": "markdown",
   "metadata": {},
   "source": [
    "# Verificacion circuital\n",
    "\n",
    "## Parte 1\n",
    "\n",
    "<img src=\"./assets/ts13_p1_sch.png\" align=\"center\" width=\"900\" /> \n",
    "\n",
    "<img src=\"./assets/ts13_p1_ac.png\" align=\"center\" width=\"900\" /> \n",
    "\n",
    "La red simulada cumple con los valores de continua e infinito.\n",
    "\n",
    "## Parte 2\n",
    "\n",
    "<img src=\"./assets/ts13_p2_sch.png\" align=\"center\" width=\"900\" /> \n",
    "\n",
    "<img src=\"./assets/ts13_p2_ac.png\" align=\"center\" width=\"900\" /> \n",
    "\n",
    "Podemos observar el cero de transmision en el origen y en infinito el cero doble (la pendiente de atenuacion es 40db/dec)\n"
   ]
  },
  {
   "cell_type": "code",
   "execution_count": null,
   "metadata": {},
   "outputs": [],
   "source": []
  },
  {
   "cell_type": "code",
   "execution_count": null,
   "metadata": {},
   "outputs": [],
   "source": []
  }
 ],
 "metadata": {
  "kernelspec": {
   "display_name": "Python 3 (ipykernel)",
   "language": "python",
   "name": "python3"
  },
  "language_info": {
   "codemirror_mode": {
    "name": "ipython",
    "version": 3
   },
   "file_extension": ".py",
   "mimetype": "text/x-python",
   "name": "python",
   "nbconvert_exporter": "python",
   "pygments_lexer": "ipython3",
   "version": "3.9.5"
  }
 },
 "nbformat": 4,
 "nbformat_minor": 2
}
