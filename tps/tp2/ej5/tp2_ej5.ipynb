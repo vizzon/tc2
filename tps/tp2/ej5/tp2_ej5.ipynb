{
 "cells": [
  {
   "cell_type": "markdown",
   "id": "9113749a",
   "metadata": {},
   "source": [
    "## Calculo del orden y $\\epsilon$ con numpy"
   ]
  },
  {
   "cell_type": "code",
   "execution_count": 1,
   "id": "96ffc2fd",
   "metadata": {},
   "outputs": [
    {
     "name": "stdout",
     "output_type": "stream",
     "text": [
      "epsilon^2 =  0.09647819614318509\n",
      "epsilon =  0.3106093948083108\n",
      "calulamos la atenacion en omega = ws\n",
      "order is:  1 alpha para butter:  2.714474890586518 alpha para cheby:  2.714474890586518\n",
      "order is:  2 alpha para butter:  9.452092057003144 alpha para cheby:  14.606302512446167\n",
      "order is:  3 alpha para butter:  18.53288084267731 alpha para cheby:  29.761586089852262\n",
      "order is:  4 alpha para butter:  28.020847675655546 alpha para cheby:  45.067943217860424\n",
      "order is:  5 alpha para butter:  37.55717948282837 alpha para cheby:  60.378833074960205\n",
      "order is:  6 alpha para butter:  47.098927017285924 alpha para cheby:  75.689856439126\n",
      "order is:  7 alpha para butter:  56.64127682071623 alpha para cheby:  91.00088373343878\n",
      "order is:  8 alpha para butter:  66.18369354936635 alpha para cheby:  106.31191114344433\n",
      "order is:  9 alpha para butter:  75.72611771423159 alpha para cheby:  121.62293855685556\n",
      "\n",
      " Polos de un chebyshev de orden 5:\n",
      "[-0.11932228+1.01949544j -0.31238979+0.63008283j -0.38613502-0.j\n",
      " -0.31238979-0.63008283j -0.11932228-1.01949544j]\n"
     ]
    }
   ],
   "source": [
    "import numpy as np\n",
    "import matplotlib.pyplot as plt\n",
    "from scipy import signal as signal\n",
    "from pytc2.sistemas_lineales import bodePlot, pzmap, GroupDelay, analyze_sys\n",
    "\n",
    "alfa_max = 0.4\n",
    "alfa_min = 48\n",
    "wp = 1\n",
    "ws = 3\n",
    "\n",
    "\n",
    "ee =  (10**(alfa_max/10)-1)\n",
    "e = ee**0.5\n",
    "print(\"epsilon^2 = \",ee)\n",
    "print(\"epsilon = \", e)\n",
    "\n",
    "n = 1\n",
    "print(\"calulamos la atenacion en omega = ws\")\n",
    "for n in range(1, 10, 1):\n",
    "    cheby = 10*np.log10(1+ee*(np.cosh(n*np.arccosh(3))**2))\n",
    "    butter = 10*np.log10(1+ee*(ws**(2*n)))\n",
    "    print(\"order is: \", n, \"alpha para butter: \", butter, \"alpha para cheby: \", cheby)\n",
    "    \n",
    "z, p, k = signal.cheb1ap(5, alfa_max)\n",
    "print(\n",
    "    \"\\n\",\n",
    "    \"Polos de un chebyshev de orden 5:\"\n",
    ")\n",
    "print(p)\n",
    "#print(z)\n",
    "#print(k)"
   ]
  },
  {
   "cell_type": "markdown",
   "id": "7cc71f8a",
   "metadata": {},
   "source": [
    "## Calculo manual de $\\mid T(s)\\mid^2$\n",
    "\n",
    "<img src=\"./tp_2_ej5_page_1.jpg\" align=\"left\" width=\"900\"/>\n",
    "\n",
    "<img src=\"./tp_2_ej5_page_2.jpg\" align=\"left\" width=\"900\"/>\n",
    "\n",
    "<img src=\"./tp_2_ej5_page_3.jpg\" align=\"left\" width=\"900\"/>"
   ]
  },
  {
   "cell_type": "markdown",
   "id": "080391d0",
   "metadata": {},
   "source": [
    "Ahora nos quedamos con el denominador y calculamos sus raices para quedarnos con las que estan en el semiplano izquierdo\n",
    "\n",
    "$den = -s^10 - s^8\\frac{5}{2} -s^6\\frac{35}{16} -s^4\\frac{25}{32} -s^2\\frac{25}{256} + \\frac{1}{\\epsilon^2 256}$\n",
    "\n",
    "$num = \\frac{1}{\\epsilon^2 256}$"
   ]
  },
  {
   "cell_type": "code",
   "execution_count": 2,
   "id": "852c42d9",
   "metadata": {},
   "outputs": [
    {
     "name": "stdout",
     "output_type": "stream",
     "text": [
      "\n",
      "\n",
      "si comparamos las raices obtenidas utilizando che1ap() y las calculadas en forma manual los resultados son consistentes\n",
      "[ 0.11932228+1.01949544j  0.11932228-1.01949544j -0.11932228+1.01949544j\n",
      " -0.11932228-1.01949544j  0.31238979+0.63008283j  0.31238979-0.63008283j\n",
      " -0.31238979+0.63008283j -0.31238979-0.63008283j -0.38613502+0.j\n",
      "  0.38613502+0.j        ]\n",
      "[-0.11932228+1.01949544j -0.31238979+0.63008283j -0.38613502-0.j\n",
      " -0.31238979-0.63008283j -0.11932228-1.01949544j]\n",
      "\n",
      "\n",
      "\n",
      "\n",
      "den tf 1 [0.38613502+0.j]\n",
      "den tf 2 [1.        +0.j 0.23864457+0.j 1.05360875+0.j]\n",
      "den tf 3 [1.        +0.j 0.62477958+0.j 0.49459176+0.j]\n",
      "coeficiente lineal del numerador de T(s) 0.20121735222648754 \n",
      "multiplicacion de los coeficientes lineales de los denominadores (0.2012173522264874+0j)\n"
     ]
    }
   ],
   "source": [
    "den = np.array([-1, 0, -(5/2), 0, -(35/16), 0, -(25/32), 0, -(25/256), 0, (1/(ee*256))])\n",
    "#print(den)\n",
    "print(\"\\n\\nsi comparamos las raices obtenidas utilizando che1ap() y las calculadas en forma manual los resultados son consistentes\")\n",
    "roots = np.roots(den)\n",
    "print(roots)\n",
    "print(p)\n",
    "print(\"\\n\\n\\n\")\n",
    "den_tf_1 = np.polymul(-1, roots[8])\n",
    "den_tf_2 = np.polymul(np.array([-1, roots[2]]), np.array([-1, roots[3]]))\n",
    "den_tf_3 = np.polymul(np.array([-1, roots[6]]), np.array([-1, roots[7]]))\n",
    "print(\"den tf 1\", den_tf_1)\n",
    "print(\"den tf 2\", den_tf_2)\n",
    "print(\"den tf 3\", den_tf_3)\n",
    "\n",
    "##multiplicamos los terminos lineales de cada TF y esto debe ser igual a la raiz cuadrad del termino lineal del\n",
    "## del numerador de T(s)^2 que es lo mismo que el termino lineal del numerador de T(s)\n",
    "num_coef_sqrt = np.sqrt(1/(ee*256))\n",
    "linear_coef_total = den_tf_1[0]*den_tf_2[2]*den_tf_3[2]\n",
    "print(\"coeficiente lineal del numerador de T(s)\", num_coef_sqrt, \"\\nmultiplicacion de los coeficientes lineales de los denominadores\", linear_coef_total)\n"
   ]
  },
  {
   "cell_type": "markdown",
   "id": "2bf15b02",
   "metadata": {},
   "source": [
    "Ahora estamos en condiciones de escribir las funciones transferencias de cada etapa:\n",
    "\n",
    "$T_1(s) = \\frac{0.386}{s+0.386}$\n",
    "\n",
    "$T_2(s) = \\frac{1.054}{s^2+s0.239+1.054}$\n",
    "\n",
    "$T_3(s) = \\frac{0.495}{s^2+s0.625+0.495}$\n",
    "\n",
    "Recordando las ecuaciones de un filtro pasabajos RC pasivo\n",
    "\n",
    "$\\omega_0 = \\frac{1}{RC}$\n",
    "\n",
    "Adoptamos $ C_1 = 1$ y calculamos $R_1$"
   ]
  },
  {
   "cell_type": "code",
   "execution_count": 3,
   "id": "d96b0186",
   "metadata": {},
   "outputs": [
    {
     "name": "stdout",
     "output_type": "stream",
     "text": [
      "R_1 =  2.5897677053768904\n"
     ]
    }
   ],
   "source": [
    "r_1 = 1/(np.abs(den_tf_1[0]))\n",
    "print(\"R_1 = \", r_1)"
   ]
  },
  {
   "cell_type": "markdown",
   "id": "85c51f38",
   "metadata": {},
   "source": [
    "Recordando ecuaciones de diseño de un filtro pasivo RLC pasa bajos\n",
    "\n",
    "$\\omega_0^2 = \\frac{1}{LC}$\n",
    "\n",
    "$\\frac{\\omega_0}{Q}=\\frac{R}{L}$\n",
    "\n",
    "Adoptamos $C_2 = C_3 = C_1 = 1$ y calculamos $R_2, R_3, L_2 y L_3$\n",
    "\n",
    "$L_i = \\frac{1}{\\omega_{0i}^2}$\n",
    "\n",
    "$R_i = \\frac{\\omega_{0i}}{Q_i} L_i$"
   ]
  },
  {
   "cell_type": "code",
   "execution_count": 4,
   "id": "78037393",
   "metadata": {},
   "outputs": [
    {
     "name": "stdout",
     "output_type": "stream",
     "text": [
      "L_2 =  (0.9491189215343327+0j) \n",
      "R_2 =  (0.2265020726206374+0j)\n",
      "L_3 =  (2.021869531250312+0j) \n",
      "R_3 =  (1.2632228039559747+0j)\n"
     ]
    }
   ],
   "source": [
    "l_2 = 1/den_tf_2[2]\n",
    "r_2 = den_tf_2[1]*l_2\n",
    "print(\"L_2 = \", l_2, \"\\nR_2 = \", r_2)\n",
    "l_3 = 1/den_tf_3[2]\n",
    "r_3 = den_tf_3[1]*l_3\n",
    "print(\"L_3 = \", l_3, \"\\nR_3 = \", r_3)"
   ]
  },
  {
   "cell_type": "markdown",
   "id": "7897e365",
   "metadata": {},
   "source": [
    "## Simulamos el lp normalizado con respuesta de Chebyshev\n",
    "\n",
    "En la respuesta en frecuencia se observan los 5 \"toques\" correspondientes a un Chebyshev de orden 5.\n",
    "En $\\omega = \\omega_0 = 1$ pasa por 0.4dB\n",
    "\n",
    " <img src=\"./chebyshev_lp_normalizado.png\" align=\"left\" width=\"900\"/>\n",
    "\n",
    " <img src=\"./chebyshev_lp_normalizado_ac_plot.png\" align=\"left\" width=\"900\"/>"
   ]
  },
  {
   "cell_type": "markdown",
   "id": "3faea3bd",
   "metadata": {},
   "source": [
    "## Transformacion de pasa bajos a pasa altos\n",
    "\n",
    "Usamos el nucleo de transformacion $s = \\frac{1}{s}$ y lo aplicamos a $T_1(s), T_2(s) y T_3(s)$\n",
    "\n",
    "$T_{1HP} = T_1(\\frac{1}{s}) = \\frac{0.386}{\\frac{1}{s}+0.386} = \\frac{s0.386}{s0.386 + 1} = \\frac{s}{s +\\frac{1}{0.386}}$\n",
    "\n",
    "$T_{2HP} = T_2(\\frac{1}{s}) =  \\frac{1.054}{\\left(\\frac{1}{s}\\right)^2+\\frac{0.239}{s}+1.054} = \\frac{s^2 1.054}{1+s0.239+S^2 1.054} = \\frac{s^2}{s^2 + s \\frac{0.239}{1.054} + \\frac{1}{1.054}}$\n",
    "\n",
    "\n",
    "$T_{3HP}(s) = \\frac{0.495}{\\left(\\frac{1}{s}\\right)^2+\\frac{0.625}{s}+0.495} =  \\frac{s^2 0.495}{1+s0.625+s^2 0.495} = \\frac{s^2}{s^2+s\\frac{0.625}{0.495}+ \\frac{1}{0.495}} $\n",
    "\n",
    "### Ecuaciones de filtro pasa alto pasivo de orden 1\n",
    "\n",
    "$T_{HP} = \\frac{s}{s + \\frac{1}{RC}}$\n",
    "\n",
    "$\\omega_0 = \\frac{1}{RC}$\n",
    "\n",
    "### Ecuaciones de filtro pasa alto pasivo de orden 2\n",
    "\n",
    "$T_{HP} = \\frac{s^2}{s^2 + \\frac{R}{L} + \\frac{1}{LC}}$\n",
    "\n",
    "$\\omega_0^2 = \\frac{1}{LC}$\n",
    "\n",
    "$\\frac{\\omega_0}{Q} = \\frac{R}{L}$\n",
    "\n",
    "### Calculo de R1 y C1 para la etapa de primer orden\n",
    "\n",
    "Al igual que en el filtro LP adoptamos $C_1=1$ quedando de esta forma $\\omega_0 = \\frac{1}{R_1} = \\frac{1}{0.386} \\implies R_1 = 0.386$"
   ]
  },
  {
   "cell_type": "code",
   "execution_count": 5,
   "id": "becb2d46",
   "metadata": {},
   "outputs": [
    {
     "name": "stdout",
     "output_type": "stream",
     "text": [
      "R_1_HP =  0.3861350181808949\n"
     ]
    }
   ],
   "source": [
    "r_1_hp = r_1 = (np.abs(den_tf_1[0]))\n",
    "print(\"R_1_HP = \", r_1_hp)"
   ]
  },
  {
   "cell_type": "markdown",
   "id": "8ed3a4f5",
   "metadata": {},
   "source": [
    "### Calculo de R L y C para las etapas de orden dos.\n",
    "\n",
    "Adoptamos $C_2 = C_3 = C_1 = 1$\n",
    "\n",
    "Para la primer etapa de orden dos nos queda\n",
    "\n",
    "$\\omega_0^2 = \\frac{1}{L_2} = \\frac{1}{1.054} \\implies L_2 = 1.054$\n",
    "\n",
    "$\\frac{\\omega_0}{Q} = \\frac{R}{L} = \\frac{0.239}{1.054} = \\frac{R_2}{L_2}  \\implies R_2 = 0.239$\n",
    "\n",
    "#### Operando de igual modo para la segunda etapa de orden 2 \n",
    "\n",
    "$L_3 = 0.495$\n",
    "\n",
    "$R_3 = 0.625$"
   ]
  },
  {
   "cell_type": "code",
   "execution_count": 6,
   "id": "45f326b5",
   "metadata": {},
   "outputs": [
    {
     "name": "stdout",
     "output_type": "stream",
     "text": [
      "L_2_HP =  1.0536087494530333\n",
      "R_2_HP =  0.2386445654823499\n",
      "L_3_HP =  0.4945917550780866\n",
      "R_3_HP =  0.6247795836632473\n"
     ]
    }
   ],
   "source": [
    "l_2_hp = np.abs(den_tf_2[2])\n",
    "r_2_hp = np.abs(den_tf_2[1])\n",
    "print(\"L_2_HP = \", l_2_hp)\n",
    "print(\"R_2_HP = \", r_2_hp)\n",
    "l_3_hp = np.abs(den_tf_3[2])\n",
    "r_3_hp = np.abs(den_tf_3[1])\n",
    "print(\"L_3_HP = \", l_3_hp)\n",
    "print(\"R_3_HP = \", r_3_hp)"
   ]
  },
  {
   "cell_type": "markdown",
   "id": "08592ab5",
   "metadata": {},
   "source": [
    "## Simulamos el hp normalizado con respuesta de Chebyshev\n",
    "\n",
    " <img src=\"./chebyshev_hp_normalizado.png\" align=\"left\" width=\"900\"/>\n",
    "\n",
    " <img src=\"./chebyshev_hp_normalizado_ac_plot.png\" align=\"left\" width=\"900\"/>"
   ]
  },
  {
   "cell_type": "markdown",
   "id": "8e671393",
   "metadata": {},
   "source": [
    "### Desnormalizacion en frecuencia e impedancia\n",
    "\n",
    "$R_i = R_i^* \\times \\Omega_z$\n",
    "\n",
    "$L_i = L_i^* \\times \\frac{\\Omega_z}{\\Omega_\\omega}$\n",
    "\n",
    "$C_i = C_i^* \\times \\frac{1}{\\Omega_z\\Omega_\\omega}$"
   ]
  },
  {
   "cell_type": "code",
   "execution_count": 7,
   "id": "d4f1d673",
   "metadata": {},
   "outputs": [
    {
     "name": "stdout",
     "output_type": "stream",
     "text": [
      "R1:  849.4970399979688 \n",
      "R2:  525.0180440611698 \n",
      "R3:  1374.5150840591439 \n",
      "L2:  0.038428280128406794 \n",
      "L3:  0.01803924893676893 \n",
      "C:  7.535745411548075e-09\n"
     ]
    }
   ],
   "source": [
    "omega_z = 2200\n",
    "omega_freq = 2*np.pi*9600\n",
    "c_desnormalizado = 1/(omega_z*omega_freq)\n",
    "l_2_desnormalizado = l_2_hp*(omega_z/omega_freq)\n",
    "l_3_desnormalizado = l_3_hp*(omega_z/omega_freq)\n",
    "r_1_desnormalizado = r_1_hp*omega_z\n",
    "r_2_desnormalizado = r_2_hp*omega_z\n",
    "r_3_desnormalizado = r_3_hp*omega_z\n",
    "print(\n",
    "    \"R1: \", r_1_desnormalizado,\n",
    "    \"\\nR2: \", r_2_desnormalizado,\n",
    "    \"\\nR3: \", r_3_desnormalizado,\n",
    "    \"\\nL2: \", l_2_desnormalizado,\n",
    "    \"\\nL3: \", l_3_desnormalizado,\n",
    "    \"\\nC: \", c_desnormalizado\n",
    ")\n"
   ]
  },
  {
   "cell_type": "markdown",
   "id": "6c809a68",
   "metadata": {},
   "source": [
    "## Simulamos el hp normalizado con respuesta de Chebyshev\n",
    "\n",
    "El filtro construido con los componentes desnormalizados cumple con la plantilla de diseño, para $f = 3200Hz$ la atenuacion es 60,32dB (lo esperado para un Chebyshev de orden 5) cuando $\\alpha_{min} = 48dB$. Para $f=9600Hz$ se cumple con la plantilla de diseño $\\alpha_{max} = 0.4dB$. En la banda de paso estan presente los 5 \"toques\" y la transferencia se aprozima a la unidad a medida que aumenta la frecuencia.\n",
    "\n",
    " <img src=\"./chebyshev_desnormalizado.png\" align=\"left\" width=\"900\"/>\n",
    "\n",
    " <img src=\"./chebyshev_desnormalizado_ac_plot.png\" align=\"left\" width=\"900\"/>\n",
    " \n",
    "  <img src=\"./chebyshev_desnormalizado_ripple.png\" align=\"left\" width=\"900\"/>"
   ]
  },
  {
   "cell_type": "code",
   "execution_count": null,
   "id": "2caa8107",
   "metadata": {},
   "outputs": [],
   "source": []
  }
 ],
 "metadata": {
  "kernelspec": {
   "display_name": "Python 3 (ipykernel)",
   "language": "python",
   "name": "python3"
  },
  "language_info": {
   "codemirror_mode": {
    "name": "ipython",
    "version": 3
   },
   "file_extension": ".py",
   "mimetype": "text/x-python",
   "name": "python",
   "nbconvert_exporter": "python",
   "pygments_lexer": "ipython3",
   "version": "3.9.5"
  }
 },
 "nbformat": 4,
 "nbformat_minor": 5
}
